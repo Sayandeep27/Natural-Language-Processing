{
  "nbformat": 4,
  "nbformat_minor": 0,
  "metadata": {
    "colab": {
      "provenance": [],
      "authorship_tag": "ABX9TyOPKO355JVGdSNRVApxunkR",
      "include_colab_link": true
    },
    "kernelspec": {
      "name": "python3",
      "display_name": "Python 3"
    },
    "language_info": {
      "name": "python"
    }
  },
  "cells": [
    {
      "cell_type": "markdown",
      "metadata": {
        "id": "view-in-github",
        "colab_type": "text"
      },
      "source": [
        "<a href=\"https://colab.research.google.com/github/Sayandeep27/Natural-Language-Processing/blob/main/Text_Summarizer.ipynb\" target=\"_parent\"><img src=\"https://colab.research.google.com/assets/colab-badge.svg\" alt=\"Open In Colab\"/></a>"
      ]
    },
    {
      "cell_type": "code",
      "execution_count": 1,
      "metadata": {
        "id": "bls-gylA5ikK"
      },
      "outputs": [],
      "source": [
        "import nltk\n",
        "from nltk.corpus import stopwords\n",
        "from nltk.tokenize import sent_tokenize, word_tokenize\n",
        "from heapq import nlargest"
      ]
    },
    {
      "cell_type": "code",
      "source": [
        "# Download NLTK resources\n",
        "nltk.download('punkt')\n",
        "nltk.download('stopwords')"
      ],
      "metadata": {
        "colab": {
          "base_uri": "https://localhost:8080/"
        },
        "id": "gNtyZ3z85oLg",
        "outputId": "f1db8271-0837-4a9a-b3e0-d226167f602d"
      },
      "execution_count": 2,
      "outputs": [
        {
          "output_type": "stream",
          "name": "stderr",
          "text": [
            "[nltk_data] Downloading package punkt to /root/nltk_data...\n",
            "[nltk_data]   Unzipping tokenizers/punkt.zip.\n",
            "[nltk_data] Downloading package stopwords to /root/nltk_data...\n",
            "[nltk_data]   Unzipping corpora/stopwords.zip.\n"
          ]
        },
        {
          "output_type": "execute_result",
          "data": {
            "text/plain": [
              "True"
            ]
          },
          "metadata": {},
          "execution_count": 2
        }
      ]
    },
    {
      "cell_type": "code",
      "source": [
        "# Sample news article\n",
        "article = \"\"\"\n",
        "Cats, with their graceful movements and enigmatic gaze, embody elegance in the animal kingdom. Their silky fur, ranging from sleek black to fluffy white, invites touch and admiration. With a flick of their tail and a purr, they communicate a spectrum of emotions, from contentment to curiosity. Agile hunters by nature, they stalk their prey with precision and patience, showcasing their innate instincts. Yet, they are equally adept at lounging in sunlit spots, basking in moments of leisure. Independent yet affectionate, they form deep bonds with their human companions, often seeking out gentle strokes and companionship. Their playful antics entertain and charm, reminding us of the joy in simple pleasures. Cats' mysterious aura adds a touch of mystique to any household, weaving themselves into the fabric of our lives with their unique personalities. They inspire artists, writers, and poets with their timeless allure, becoming symbols of grace and resilience. In the tapestry of nature, cats occupy a special place, both revered and cherished for their enigmatic beauty and captivating presence.\n",
        "\"\"\""
      ],
      "metadata": {
        "id": "B2JfxyII5uAd"
      },
      "execution_count": 10,
      "outputs": []
    },
    {
      "cell_type": "code",
      "source": [
        "# Preprocessing\n",
        "stop_words = set(stopwords.words('english'))\n",
        "word_frequencies = {}\n"
      ],
      "metadata": {
        "id": "loNWOv0a5wmp"
      },
      "execution_count": 11,
      "outputs": []
    },
    {
      "cell_type": "code",
      "source": [
        "# Tokenize the article into sentences and words\n",
        "sentences = sent_tokenize(article)\n",
        "for sentence in sentences:\n",
        "    words = word_tokenize(sentence)\n",
        "    for word in words:\n",
        "        if word.lower() not in stop_words:\n",
        "            if word not in word_frequencies:\n",
        "                word_frequencies[word] = 1\n",
        "            else:\n",
        "                word_frequencies[word] += 1"
      ],
      "metadata": {
        "id": "ebuFOg6v5yil"
      },
      "execution_count": 12,
      "outputs": []
    },
    {
      "cell_type": "code",
      "source": [
        "# Calculate word frequencies and normalize them\n",
        "maximum_frequency = max(word_frequencies.values())\n",
        "for word in word_frequencies.keys():\n",
        "    word_frequencies[word] = (word_frequencies[word] / maximum_frequency)"
      ],
      "metadata": {
        "id": "e6piyBrK50te"
      },
      "execution_count": 13,
      "outputs": []
    },
    {
      "cell_type": "code",
      "source": [
        "# Calculate sentence scores based on word frequencies\n",
        "sentence_scores = {}\n",
        "for sentence in sentences:\n",
        "    for word in word_tokenize(sentence.lower()):\n",
        "        if word in word_frequencies:\n",
        "            if len(sentence.split(' ')) < 30:\n",
        "                if sentence not in sentence_scores:\n",
        "                    sentence_scores[sentence] = word_frequencies[word]\n",
        "                else:\n",
        "                    sentence_scores[sentence] += word_frequencies[word]"
      ],
      "metadata": {
        "id": "bIszst3B53Zf"
      },
      "execution_count": 14,
      "outputs": []
    },
    {
      "cell_type": "code",
      "source": [
        "# Select the top N sentences as the summary\n",
        "summary_sentences = nlargest(3, sentence_scores, key=sentence_scores.get)\n",
        "summary = ' '.join(summary_sentences)"
      ],
      "metadata": {
        "id": "7FGSun8S55Vc"
      },
      "execution_count": 15,
      "outputs": []
    },
    {
      "cell_type": "code",
      "source": [
        "# Print the summary\n",
        "print(summary)"
      ],
      "metadata": {
        "colab": {
          "base_uri": "https://localhost:8080/"
        },
        "id": "pB2TUjQ457eb",
        "outputId": "63b3630d-e6ff-4705-ea64-bfd1029156fa"
      },
      "execution_count": 16,
      "outputs": [
        {
          "output_type": "stream",
          "name": "stdout",
          "text": [
            "They inspire artists, writers, and poets with their timeless allure, becoming symbols of grace and resilience. In the tapestry of nature, cats occupy a special place, both revered and cherished for their enigmatic beauty and captivating presence. Independent yet affectionate, they form deep bonds with their human companions, often seeking out gentle strokes and companionship.\n"
          ]
        }
      ]
    },
    {
      "cell_type": "code",
      "source": [],
      "metadata": {
        "id": "1DAYQIA_59Wr"
      },
      "execution_count": null,
      "outputs": []
    }
  ]
}